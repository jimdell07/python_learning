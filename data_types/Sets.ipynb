{
 "cells": [
  {
   "cell_type": "markdown",
   "metadata": {},
   "source": [
    "# Sets\n",
    "A set is a collection which is unordered, unchangeable*, and unindexed.\n",
    "\n",
    "Note: Set items are unchangeable, but you can remove items and add new items.\n",
    "\n",
    "Sets cannot have two items with the same value."
   ]
  },
  {
   "cell_type": "code",
   "execution_count": 38,
   "metadata": {},
   "outputs": [
    {
     "name": "stdout",
     "output_type": "stream",
     "text": [
      "{'apple', 'cherry', 'banana'}\n",
      "<class 'set'>\n"
     ]
    }
   ],
   "source": [
    "thisset = {\"apple\", \"banana\", \"cherry\"}\n",
    "print(thisset)\n",
    "print(type(thisset))"
   ]
  },
  {
   "cell_type": "markdown",
   "metadata": {},
   "source": [
    "## The set() Constructor"
   ]
  },
  {
   "cell_type": "code",
   "execution_count": null,
   "metadata": {},
   "outputs": [],
   "source": [
    "thisset = set((\"apple\", \"banana\", \"cherry\")) # note the double round-brackets\n",
    "print(thisset)"
   ]
  },
  {
   "cell_type": "markdown",
   "metadata": {},
   "source": [
    "## Access Items\n",
    "You cannot access items in a set by referring to an index or a key.\n",
    "\n",
    "But you can loop through the set items using a for loop, or ask if a specified value is present in a set, by using the in keyword."
   ]
  },
  {
   "cell_type": "code",
   "execution_count": 39,
   "metadata": {},
   "outputs": [
    {
     "name": "stdout",
     "output_type": "stream",
     "text": [
      "apple\n",
      "cherry\n",
      "banana\n"
     ]
    }
   ],
   "source": [
    "thisset = {\"apple\", \"banana\", \"cherry\"}\n",
    "for x in thisset:\n",
    "  print(x)"
   ]
  },
  {
   "cell_type": "code",
   "execution_count": 40,
   "metadata": {},
   "outputs": [
    {
     "name": "stdout",
     "output_type": "stream",
     "text": [
      "True\n"
     ]
    }
   ],
   "source": [
    "thisset = {\"apple\", \"banana\", \"cherry\"}\n",
    "print(\"banana\" in thisset)"
   ]
  },
  {
   "cell_type": "markdown",
   "metadata": {},
   "source": [
    "## Add Any Iterable"
   ]
  },
  {
   "cell_type": "code",
   "execution_count": 41,
   "metadata": {},
   "outputs": [
    {
     "name": "stdout",
     "output_type": "stream",
     "text": [
      "{'orange', 'cherry', 'apple', 'kiwi', 'banana'}\n"
     ]
    }
   ],
   "source": [
    "thisset = {\"apple\", \"banana\", \"cherry\"}\n",
    "mylist = [\"kiwi\", \"orange\"]\n",
    "thisset.update(mylist)\n",
    "print(thisset)"
   ]
  },
  {
   "cell_type": "markdown",
   "metadata": {},
   "source": [
    "## Set Methods"
   ]
  },
  {
   "cell_type": "code",
   "execution_count": null,
   "metadata": {},
   "outputs": [],
   "source": [
    "# Add an element to the fruits set:\n",
    "fruits = {\"apple\", \"banana\", \"cherry\"}\n",
    "fruits.add(\"orange\")\n",
    "print(fruits)"
   ]
  },
  {
   "cell_type": "code",
   "execution_count": null,
   "metadata": {},
   "outputs": [],
   "source": [
    "# Remove all elements from the fruits set:\n",
    "fruits = {\"apple\", \"banana\", \"cherry\"}\n",
    "fruits.clear()\n",
    "print(fruits)"
   ]
  },
  {
   "cell_type": "code",
   "execution_count": null,
   "metadata": {},
   "outputs": [],
   "source": [
    "# Copy the fruits set:\n",
    "fruits = {\"apple\", \"banana\", \"cherry\"}\n",
    "x = fruits.copy()\n",
    "print(x)"
   ]
  },
  {
   "cell_type": "code",
   "execution_count": null,
   "metadata": {},
   "outputs": [],
   "source": [
    "# Return a set that contains the items that only exist in set x, and not in set y:\n",
    "x = {\"apple\", \"banana\", \"cherry\"}\n",
    "y = {\"google\", \"microsoft\", \"apple\"}\n",
    "z = x.difference(y)\n",
    "print(z)\n"
   ]
  },
  {
   "cell_type": "code",
   "execution_count": null,
   "metadata": {},
   "outputs": [],
   "source": [
    "# Remove the items that exist in both sets:\n",
    "x = {\"apple\", \"banana\", \"cherry\"}\n",
    "y = {\"google\", \"microsoft\", \"apple\"}\n",
    "x.difference_update(y)\n",
    "print(x)"
   ]
  },
  {
   "cell_type": "code",
   "execution_count": 43,
   "metadata": {},
   "outputs": [
    {
     "name": "stdout",
     "output_type": "stream",
     "text": [
      "{'apple', 'cherry'}\n"
     ]
    }
   ],
   "source": [
    "# Remove \"banana\" from the set:\n",
    "fruits = {\"apple\", \"banana\", \"cherry\"}\n",
    "fruits.discard(\"banana\")\n",
    "print(fruits)"
   ]
  },
  {
   "cell_type": "code",
   "execution_count": 42,
   "metadata": {},
   "outputs": [
    {
     "name": "stdout",
     "output_type": "stream",
     "text": [
      "{'apple'}\n"
     ]
    }
   ],
   "source": [
    "# Return a set that contains the items that exist in both set x, and set y:\n",
    "x = {\"apple\", \"banana\", \"cherry\"}\n",
    "y = {\"google\", \"microsoft\", \"apple\"}\n",
    "z = x.intersection(y)\n",
    "print(z)\n"
   ]
  },
  {
   "cell_type": "code",
   "execution_count": null,
   "metadata": {},
   "outputs": [],
   "source": [
    "# Remove the items that is not present in both x and y:\n",
    "x = {\"apple\", \"banana\", \"cherry\"}\n",
    "y = {\"google\", \"microsoft\", \"apple\"}\n",
    "x.intersection_update(y)\n",
    "print(x)"
   ]
  },
  {
   "cell_type": "code",
   "execution_count": null,
   "metadata": {},
   "outputs": [],
   "source": [
    "# Return True if no items in set x is present in set y:\n",
    "x = {\"apple\", \"banana\", \"cherry\"}\n",
    "y = {\"google\", \"microsoft\", \"facebook\"}\n",
    "z = x.isdisjoint(y)\n",
    "print(z)"
   ]
  },
  {
   "cell_type": "code",
   "execution_count": null,
   "metadata": {},
   "outputs": [],
   "source": [
    "# Return True if no items in set x is present in set y:\n",
    "x = {\"apple\", \"banana\", \"cherry\"}\n",
    "y = {\"google\", \"microsoft\", \"facebook\"}\n",
    "z = x.isdisjoint(y)\n",
    "print(z)"
   ]
  },
  {
   "cell_type": "code",
   "execution_count": null,
   "metadata": {},
   "outputs": [],
   "source": [
    "# Return True if all items in set x are present in set y:\n",
    "x = {\"a\", \"b\", \"c\"}\n",
    "y = {\"f\", \"e\", \"d\", \"c\", \"b\", \"a\"}\n",
    "z = x.issubset(y)\n",
    "print(z)"
   ]
  },
  {
   "cell_type": "code",
   "execution_count": null,
   "metadata": {},
   "outputs": [],
   "source": [
    "# Return True if all items set y are present in set x:\n",
    "x = {\"f\", \"e\", \"d\", \"c\", \"b\", \"a\"}\n",
    "y = {\"a\", \"b\", \"c\"}\n",
    "z = x.issuperset(y)\n",
    "print(z)"
   ]
  },
  {
   "cell_type": "code",
   "execution_count": null,
   "metadata": {},
   "outputs": [],
   "source": [
    "# Remove a random item from the set:\n",
    "fruits = {\"apple\", \"banana\", \"cherry\"}\n",
    "fruits.pop()\n",
    "print(fruits)"
   ]
  },
  {
   "cell_type": "code",
   "execution_count": null,
   "metadata": {},
   "outputs": [],
   "source": [
    "# Remove \"banana\" from the set:\n",
    "fruits = {\"apple\", \"banana\", \"cherry\"}\n",
    "fruits.remove(\"banana\")\n",
    "print(fruits)"
   ]
  },
  {
   "cell_type": "code",
   "execution_count": null,
   "metadata": {},
   "outputs": [],
   "source": [
    "# Return a set that contains all items from both sets, except items that are present in both sets:\n",
    "x = {\"apple\", \"banana\", \"cherry\"}\n",
    "y = {\"google\", \"microsoft\", \"apple\"}\n",
    "z = x.symmetric_difference(y)\n",
    "print(z)"
   ]
  },
  {
   "cell_type": "code",
   "execution_count": 44,
   "metadata": {},
   "outputs": [
    {
     "name": "stdout",
     "output_type": "stream",
     "text": [
      "{'microsoft', 'google', 'cherry', 'apple', 'banana'}\n"
     ]
    }
   ],
   "source": [
    "# Return a set that contains all items from both sets, duplicates are excluded:\n",
    "x = {\"apple\", \"banana\", \"cherry\"}\n",
    "y = {\"google\", \"microsoft\", \"apple\"}\n",
    "z = x.union(y)\n",
    "print(z)"
   ]
  },
  {
   "cell_type": "code",
   "execution_count": null,
   "metadata": {},
   "outputs": [],
   "source": [
    "# Insert the items from set y into set x:\n",
    "x = {\"apple\", \"banana\", \"cherry\"}\n",
    "y = {\"google\", \"microsoft\", \"apple\"}\n",
    "x.update(y)\n",
    "print(x)"
   ]
  }
 ],
 "metadata": {
  "interpreter": {
   "hash": "7bf237840e9a0420832320683ad9f350fce5d2bd18f6f78f392f1e4d187a8a5a"
  },
  "kernelspec": {
   "display_name": "Python 3.9.7 64-bit ('.venv': venv)",
   "language": "python",
   "name": "python3"
  },
  "language_info": {
   "codemirror_mode": {
    "name": "ipython",
    "version": 3
   },
   "file_extension": ".py",
   "mimetype": "text/x-python",
   "name": "python",
   "nbconvert_exporter": "python",
   "pygments_lexer": "ipython3",
   "version": "3.9.7"
  },
  "orig_nbformat": 4
 },
 "nbformat": 4,
 "nbformat_minor": 2
}
